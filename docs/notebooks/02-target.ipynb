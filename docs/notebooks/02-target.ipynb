{
 "cells": [
  {
   "cell_type": "markdown",
   "metadata": {},
   "source": [
    "# Target\n",
    "\n",
    "We are interested in the service composition problem in which\n",
    "the target service is stochastic.\n",
    "\n",
    "Brafman, R. I., De Giacomo, G., Mecella, M., & Sardina, S. (2017, November).\n",
    " Service Composition in Stochastic Settings.\n",
    " In Conference of the Italian Association for Artificial Intelligence (pp. 159-171).\n",
    " Springer, Cham."
   ]
  },
  {
   "cell_type": "markdown",
   "metadata": {
    "pycharm": {
     "name": "#%% md\n"
    }
   },
   "source": [
    "## Examples"
   ]
  },
  {
   "cell_type": "code",
   "execution_count": 7,
   "metadata": {
    "pycharm": {
     "name": "#%%\n"
    }
   },
   "outputs": [],
   "source": [
    "from docs.notebooks.utils import render_target, render_service\n",
    "from stochastic_service_composition.target import build_target_from_transitions\n",
    "\n",
    "\n",
    "def target_service():\n",
    "    \"\"\"Build the target service.\"\"\"\n",
    "    transition_function = {\n",
    "        \"t0\": {\n",
    "            \"hot_air_on\": (\"t1\", 0.6, 5),\n",
    "            \"move_to_kitchen\": (\"t8\", 0.2, 3),\n",
    "            \"open_door_kitchen\": (\"t7\", 0.2, 2),\n",
    "        },\n",
    "        \"t1\": {\"fill_up_bathtub\": (\"t2\", 0.7, 4), \"hot_air_on\": (\"t1\", 0.3, 2)},\n",
    "        \"t2\": {\n",
    "            \"move_to_bathroom\": (\"t3\", 0.5, 3),\n",
    "            \"open_door_bathroom\": (\"t2\", 0.5, 2),\n",
    "        },\n",
    "        \"t3\": {\"move_to_bathroom\": (\"t3\", 0.2, 4), \"wash\": (\"t4\", 0.8, 8)},\n",
    "        \"t4\": {\"move_to_bedroom\": (\"t5\", 1.0, 10)},\n",
    "        \"t5\": {\"empty_bathtub\": (\"t6\", 0.9, 7), \"move_to_bedroom\": (\"t5\", 0.1, 3)},\n",
    "        \"t6\": {\"air_off\": (\"t7\", 1.0, 10)},\n",
    "        \"t7\": {\"move_to_kitchen\": (\"t8\", 0.5, 5), \"open_door_kitchen\": (\"t7\", 0.5, 4)},\n",
    "        \"t8\": {\n",
    "            \"cook_eggs\": (\"t9\", 0.6, 7),\n",
    "            \"move_to_kitchen\": (\"t8\", 0.2, 5),\n",
    "            \"prepare_tea\": (\"t0\", 0.2, 2),\n",
    "        },\n",
    "        \"t9\": {\"no_op\": (\"t0\", 0.8, 1), \"vent_kitchen\": (\"t9\", 0.2, 1)},\n",
    "    }\n",
    "\n",
    "    initial_state = \"t0\"\n",
    "    final_states = {\"t0\"}\n",
    "\n",
    "    return build_target_from_transitions(\n",
    "        transition_function, initial_state, final_states\n",
    "    )\n",
    "\n",
    "target = target_service()\n"
   ]
  },
  {
   "cell_type": "markdown",
   "metadata": {
    "pycharm": {
     "name": "#%% md\n"
    }
   },
   "source": [
    "Only visualize the graph:\n"
   ]
  },
  {
   "cell_type": "code",
   "execution_count": 8,
   "metadata": {
    "pycharm": {
     "name": "#%%\n"
    }
   },
   "outputs": [
    {
     "ename": "ExecutableNotFound",
     "evalue": "failed to execute ['dot', '-Kdot', '-Tpng', '-O', 'output'], make sure the Graphviz executables are on your systems' PATH",
     "output_type": "error",
     "traceback": [
      "\u001B[1;31m---------------------------------------------------------------------------\u001B[0m",
      "\u001B[1;31mFileNotFoundError\u001B[0m                         Traceback (most recent call last)",
      "\u001B[1;32mc:\\users\\emanuele\\.virtualenvs\\stochastic-service-composition-main-f5-jfgy1\\lib\\site-packages\\graphviz\\backend.py\u001B[0m in \u001B[0;36mrun\u001B[1;34m(cmd, input, capture_output, check, encoding, quiet, **kwargs)\u001B[0m\n\u001B[0;32m    163\u001B[0m     \u001B[1;32mtry\u001B[0m\u001B[1;33m:\u001B[0m\u001B[1;33m\u001B[0m\u001B[1;33m\u001B[0m\u001B[0m\n\u001B[1;32m--> 164\u001B[1;33m         \u001B[0mproc\u001B[0m \u001B[1;33m=\u001B[0m \u001B[0msubprocess\u001B[0m\u001B[1;33m.\u001B[0m\u001B[0mPopen\u001B[0m\u001B[1;33m(\u001B[0m\u001B[0mcmd\u001B[0m\u001B[1;33m,\u001B[0m \u001B[0mstartupinfo\u001B[0m\u001B[1;33m=\u001B[0m\u001B[0mget_startupinfo\u001B[0m\u001B[1;33m(\u001B[0m\u001B[1;33m)\u001B[0m\u001B[1;33m,\u001B[0m \u001B[1;33m**\u001B[0m\u001B[0mkwargs\u001B[0m\u001B[1;33m)\u001B[0m\u001B[1;33m\u001B[0m\u001B[1;33m\u001B[0m\u001B[0m\n\u001B[0m\u001B[0;32m    165\u001B[0m     \u001B[1;32mexcept\u001B[0m \u001B[0mOSError\u001B[0m \u001B[1;32mas\u001B[0m \u001B[0me\u001B[0m\u001B[1;33m:\u001B[0m\u001B[1;33m\u001B[0m\u001B[1;33m\u001B[0m\u001B[0m\n",
      "\u001B[1;32m~\\AppData\\Local\\Programs\\Python\\Python38\\lib\\subprocess.py\u001B[0m in \u001B[0;36m__init__\u001B[1;34m(self, args, bufsize, executable, stdin, stdout, stderr, preexec_fn, close_fds, shell, cwd, env, universal_newlines, startupinfo, creationflags, restore_signals, start_new_session, pass_fds, encoding, errors, text)\u001B[0m\n\u001B[0;32m    857\u001B[0m \u001B[1;33m\u001B[0m\u001B[0m\n\u001B[1;32m--> 858\u001B[1;33m             self._execute_child(args, executable, preexec_fn, close_fds,\n\u001B[0m\u001B[0;32m    859\u001B[0m                                 \u001B[0mpass_fds\u001B[0m\u001B[1;33m,\u001B[0m \u001B[0mcwd\u001B[0m\u001B[1;33m,\u001B[0m \u001B[0menv\u001B[0m\u001B[1;33m,\u001B[0m\u001B[1;33m\u001B[0m\u001B[1;33m\u001B[0m\u001B[0m\n",
      "\u001B[1;32m~\\AppData\\Local\\Programs\\Python\\Python38\\lib\\subprocess.py\u001B[0m in \u001B[0;36m_execute_child\u001B[1;34m(self, args, executable, preexec_fn, close_fds, pass_fds, cwd, env, startupinfo, creationflags, shell, p2cread, p2cwrite, c2pread, c2pwrite, errread, errwrite, unused_restore_signals, unused_start_new_session)\u001B[0m\n\u001B[0;32m   1310\u001B[0m             \u001B[1;32mtry\u001B[0m\u001B[1;33m:\u001B[0m\u001B[1;33m\u001B[0m\u001B[1;33m\u001B[0m\u001B[0m\n\u001B[1;32m-> 1311\u001B[1;33m                 hp, ht, pid, tid = _winapi.CreateProcess(executable, args,\n\u001B[0m\u001B[0;32m   1312\u001B[0m                                          \u001B[1;31m# no special security\u001B[0m\u001B[1;33m\u001B[0m\u001B[1;33m\u001B[0m\u001B[1;33m\u001B[0m\u001B[0m\n",
      "\u001B[1;31mFileNotFoundError\u001B[0m: [WinError 2] Impossibile trovare il file specificato",
      "\nDuring handling of the above exception, another exception occurred:\n",
      "\u001B[1;31mExecutableNotFound\u001B[0m                        Traceback (most recent call last)",
      "\u001B[1;32m<ipython-input-8-26291f6aba1a>\u001B[0m in \u001B[0;36m<module>\u001B[1;34m\u001B[0m\n\u001B[1;32m----> 1\u001B[1;33m \u001B[0mrender_service\u001B[0m\u001B[1;33m(\u001B[0m\u001B[0mtarget\u001B[0m\u001B[1;33m)\u001B[0m\u001B[1;33m\u001B[0m\u001B[1;33m\u001B[0m\u001B[0m\n\u001B[0m\u001B[0;32m      2\u001B[0m \u001B[1;33m\u001B[0m\u001B[0m\n",
      "\u001B[1;32m~\\Downloads\\stochastic-service-composition-main\\stochastic-service-composition-main\\docs\\notebooks\\utils.py\u001B[0m in \u001B[0;36mrender_service\u001B[1;34m(service, format)\u001B[0m\n\u001B[0;32m     34\u001B[0m \u001B[1;32mdef\u001B[0m \u001B[0mrender_service\u001B[0m\u001B[1;33m(\u001B[0m\u001B[0mservice\u001B[0m\u001B[1;33m:\u001B[0m \u001B[0mService\u001B[0m\u001B[1;33m,\u001B[0m \u001B[0mformat\u001B[0m\u001B[1;33m=\u001B[0m\u001B[0m_default_format\u001B[0m\u001B[1;33m)\u001B[0m\u001B[1;33m:\u001B[0m\u001B[1;33m\u001B[0m\u001B[1;33m\u001B[0m\u001B[0m\n\u001B[0;32m     35\u001B[0m     \u001B[0mdigraph\u001B[0m \u001B[1;33m=\u001B[0m \u001B[0mservice_to_graphviz\u001B[0m\u001B[1;33m(\u001B[0m\u001B[0mservice\u001B[0m\u001B[1;33m)\u001B[0m\u001B[1;33m\u001B[0m\u001B[1;33m\u001B[0m\u001B[0m\n\u001B[1;32m---> 36\u001B[1;33m     \u001B[0mrender_digraph\u001B[0m\u001B[1;33m(\u001B[0m\u001B[0mdigraph\u001B[0m\u001B[1;33m,\u001B[0m \u001B[0mformat\u001B[0m\u001B[1;33m)\u001B[0m\u001B[1;33m\u001B[0m\u001B[1;33m\u001B[0m\u001B[0m\n\u001B[0m\u001B[0;32m     37\u001B[0m \u001B[1;33m\u001B[0m\u001B[0m\n\u001B[0;32m     38\u001B[0m \u001B[1;33m\u001B[0m\u001B[0m\n",
      "\u001B[1;32m~\\Downloads\\stochastic-service-composition-main\\stochastic-service-composition-main\\docs\\notebooks\\utils.py\u001B[0m in \u001B[0;36mrender_digraph\u001B[1;34m(digraph, format)\u001B[0m\n\u001B[0;32m     50\u001B[0m     \u001B[0mtmp_dir\u001B[0m \u001B[1;33m=\u001B[0m \u001B[0mtempfile\u001B[0m\u001B[1;33m.\u001B[0m\u001B[0mmkdtemp\u001B[0m\u001B[1;33m(\u001B[0m\u001B[1;33m)\u001B[0m\u001B[1;33m\u001B[0m\u001B[1;33m\u001B[0m\u001B[0m\n\u001B[0;32m     51\u001B[0m     \u001B[0mtmp_filepath\u001B[0m \u001B[1;33m=\u001B[0m \u001B[0mstr\u001B[0m\u001B[1;33m(\u001B[0m\u001B[0mPath\u001B[0m\u001B[1;33m(\u001B[0m\u001B[0mtmp_dir\u001B[0m\u001B[1;33m,\u001B[0m \u001B[1;34m\"output\"\u001B[0m\u001B[1;33m)\u001B[0m\u001B[1;33m)\u001B[0m\u001B[1;33m\u001B[0m\u001B[1;33m\u001B[0m\u001B[0m\n\u001B[1;32m---> 52\u001B[1;33m     \u001B[0mdigraph\u001B[0m\u001B[1;33m.\u001B[0m\u001B[0mrender\u001B[0m\u001B[1;33m(\u001B[0m\u001B[0mtmp_filepath\u001B[0m\u001B[1;33m,\u001B[0m \u001B[0mformat\u001B[0m\u001B[1;33m=\u001B[0m\u001B[0mformat\u001B[0m\u001B[1;33m)\u001B[0m\u001B[1;33m\u001B[0m\u001B[1;33m\u001B[0m\u001B[0m\n\u001B[0m\u001B[0;32m     53\u001B[0m     \u001B[0mdisplay_svgs\u001B[0m\u001B[1;33m(\u001B[0m\u001B[0mtmp_filepath\u001B[0m \u001B[1;33m+\u001B[0m \u001B[1;34mf\".{format}\"\u001B[0m\u001B[1;33m,\u001B[0m \u001B[0mformat\u001B[0m\u001B[1;33m=\u001B[0m\u001B[0mformat\u001B[0m\u001B[1;33m)\u001B[0m\u001B[1;33m\u001B[0m\u001B[1;33m\u001B[0m\u001B[0m\n\u001B[0;32m     54\u001B[0m \u001B[1;33m\u001B[0m\u001B[0m\n",
      "\u001B[1;32mc:\\users\\emanuele\\.virtualenvs\\stochastic-service-composition-main-f5-jfgy1\\lib\\site-packages\\graphviz\\files.py\u001B[0m in \u001B[0;36mrender\u001B[1;34m(self, filename, directory, view, cleanup, format, renderer, formatter, quiet, quiet_view)\u001B[0m\n\u001B[0;32m    241\u001B[0m             \u001B[0mformat\u001B[0m \u001B[1;33m=\u001B[0m \u001B[0mself\u001B[0m\u001B[1;33m.\u001B[0m\u001B[0m_format\u001B[0m\u001B[1;33m\u001B[0m\u001B[1;33m\u001B[0m\u001B[0m\n\u001B[0;32m    242\u001B[0m \u001B[1;33m\u001B[0m\u001B[0m\n\u001B[1;32m--> 243\u001B[1;33m         rendered = backend.render(self._engine, format, filepath,\n\u001B[0m\u001B[0;32m    244\u001B[0m                                   \u001B[0mrenderer\u001B[0m\u001B[1;33m=\u001B[0m\u001B[0mrenderer\u001B[0m\u001B[1;33m,\u001B[0m \u001B[0mformatter\u001B[0m\u001B[1;33m=\u001B[0m\u001B[0mformatter\u001B[0m\u001B[1;33m,\u001B[0m\u001B[1;33m\u001B[0m\u001B[1;33m\u001B[0m\u001B[0m\n\u001B[0;32m    245\u001B[0m                                   quiet=quiet)\n",
      "\u001B[1;32mc:\\users\\emanuele\\.virtualenvs\\stochastic-service-composition-main-f5-jfgy1\\lib\\site-packages\\graphviz\\backend.py\u001B[0m in \u001B[0;36mrender\u001B[1;34m(***failed resolving arguments***)\u001B[0m\n\u001B[0;32m    221\u001B[0m         \u001B[0mcwd\u001B[0m \u001B[1;33m=\u001B[0m \u001B[1;32mNone\u001B[0m\u001B[1;33m\u001B[0m\u001B[1;33m\u001B[0m\u001B[0m\n\u001B[0;32m    222\u001B[0m \u001B[1;33m\u001B[0m\u001B[0m\n\u001B[1;32m--> 223\u001B[1;33m     \u001B[0mrun\u001B[0m\u001B[1;33m(\u001B[0m\u001B[0mcmd\u001B[0m\u001B[1;33m,\u001B[0m \u001B[0mcapture_output\u001B[0m\u001B[1;33m=\u001B[0m\u001B[1;32mTrue\u001B[0m\u001B[1;33m,\u001B[0m \u001B[0mcwd\u001B[0m\u001B[1;33m=\u001B[0m\u001B[0mcwd\u001B[0m\u001B[1;33m,\u001B[0m \u001B[0mcheck\u001B[0m\u001B[1;33m=\u001B[0m\u001B[1;32mTrue\u001B[0m\u001B[1;33m,\u001B[0m \u001B[0mquiet\u001B[0m\u001B[1;33m=\u001B[0m\u001B[0mquiet\u001B[0m\u001B[1;33m)\u001B[0m\u001B[1;33m\u001B[0m\u001B[1;33m\u001B[0m\u001B[0m\n\u001B[0m\u001B[0;32m    224\u001B[0m     \u001B[1;32mreturn\u001B[0m \u001B[0mrendered\u001B[0m\u001B[1;33m\u001B[0m\u001B[1;33m\u001B[0m\u001B[0m\n\u001B[0;32m    225\u001B[0m \u001B[1;33m\u001B[0m\u001B[0m\n",
      "\u001B[1;32mc:\\users\\emanuele\\.virtualenvs\\stochastic-service-composition-main-f5-jfgy1\\lib\\site-packages\\graphviz\\backend.py\u001B[0m in \u001B[0;36mrun\u001B[1;34m(cmd, input, capture_output, check, encoding, quiet, **kwargs)\u001B[0m\n\u001B[0;32m    165\u001B[0m     \u001B[1;32mexcept\u001B[0m \u001B[0mOSError\u001B[0m \u001B[1;32mas\u001B[0m \u001B[0me\u001B[0m\u001B[1;33m:\u001B[0m\u001B[1;33m\u001B[0m\u001B[1;33m\u001B[0m\u001B[0m\n\u001B[0;32m    166\u001B[0m         \u001B[1;32mif\u001B[0m \u001B[0me\u001B[0m\u001B[1;33m.\u001B[0m\u001B[0merrno\u001B[0m \u001B[1;33m==\u001B[0m \u001B[0merrno\u001B[0m\u001B[1;33m.\u001B[0m\u001B[0mENOENT\u001B[0m\u001B[1;33m:\u001B[0m\u001B[1;33m\u001B[0m\u001B[1;33m\u001B[0m\u001B[0m\n\u001B[1;32m--> 167\u001B[1;33m             \u001B[1;32mraise\u001B[0m \u001B[0mExecutableNotFound\u001B[0m\u001B[1;33m(\u001B[0m\u001B[0mcmd\u001B[0m\u001B[1;33m)\u001B[0m\u001B[1;33m\u001B[0m\u001B[1;33m\u001B[0m\u001B[0m\n\u001B[0m\u001B[0;32m    168\u001B[0m         \u001B[1;32melse\u001B[0m\u001B[1;33m:\u001B[0m\u001B[1;33m\u001B[0m\u001B[1;33m\u001B[0m\u001B[0m\n\u001B[0;32m    169\u001B[0m             \u001B[1;32mraise\u001B[0m\u001B[1;33m\u001B[0m\u001B[1;33m\u001B[0m\u001B[0m\n",
      "\u001B[1;31mExecutableNotFound\u001B[0m: failed to execute ['dot', '-Kdot', '-Tpng', '-O', 'output'], make sure the Graphviz executables are on your systems' PATH"
     ]
    }
   ],
   "source": [
    "render_service(target)"
   ]
  },
  {
   "cell_type": "markdown",
   "metadata": {
    "pycharm": {
     "name": "#%% md\n"
    }
   },
   "source": [
    "Visualize the policy and the rewards:"
   ]
  },
  {
   "cell_type": "code",
   "execution_count": 9,
   "metadata": {
    "pycharm": {
     "name": "#%%md\n"
    }
   },
   "outputs": [
    {
     "ename": "ExecutableNotFound",
     "evalue": "failed to execute ['dot', '-Kdot', '-Tpng', '-O', 'output'], make sure the Graphviz executables are on your systems' PATH",
     "output_type": "error",
     "traceback": [
      "\u001B[1;31m---------------------------------------------------------------------------\u001B[0m",
      "\u001B[1;31mFileNotFoundError\u001B[0m                         Traceback (most recent call last)",
      "\u001B[1;32mc:\\users\\emanuele\\.virtualenvs\\stochastic-service-composition-main-f5-jfgy1\\lib\\site-packages\\graphviz\\backend.py\u001B[0m in \u001B[0;36mrun\u001B[1;34m(cmd, input, capture_output, check, encoding, quiet, **kwargs)\u001B[0m\n\u001B[0;32m    163\u001B[0m     \u001B[1;32mtry\u001B[0m\u001B[1;33m:\u001B[0m\u001B[1;33m\u001B[0m\u001B[1;33m\u001B[0m\u001B[0m\n\u001B[1;32m--> 164\u001B[1;33m         \u001B[0mproc\u001B[0m \u001B[1;33m=\u001B[0m \u001B[0msubprocess\u001B[0m\u001B[1;33m.\u001B[0m\u001B[0mPopen\u001B[0m\u001B[1;33m(\u001B[0m\u001B[0mcmd\u001B[0m\u001B[1;33m,\u001B[0m \u001B[0mstartupinfo\u001B[0m\u001B[1;33m=\u001B[0m\u001B[0mget_startupinfo\u001B[0m\u001B[1;33m(\u001B[0m\u001B[1;33m)\u001B[0m\u001B[1;33m,\u001B[0m \u001B[1;33m**\u001B[0m\u001B[0mkwargs\u001B[0m\u001B[1;33m)\u001B[0m\u001B[1;33m\u001B[0m\u001B[1;33m\u001B[0m\u001B[0m\n\u001B[0m\u001B[0;32m    165\u001B[0m     \u001B[1;32mexcept\u001B[0m \u001B[0mOSError\u001B[0m \u001B[1;32mas\u001B[0m \u001B[0me\u001B[0m\u001B[1;33m:\u001B[0m\u001B[1;33m\u001B[0m\u001B[1;33m\u001B[0m\u001B[0m\n",
      "\u001B[1;32m~\\AppData\\Local\\Programs\\Python\\Python38\\lib\\subprocess.py\u001B[0m in \u001B[0;36m__init__\u001B[1;34m(self, args, bufsize, executable, stdin, stdout, stderr, preexec_fn, close_fds, shell, cwd, env, universal_newlines, startupinfo, creationflags, restore_signals, start_new_session, pass_fds, encoding, errors, text)\u001B[0m\n\u001B[0;32m    857\u001B[0m \u001B[1;33m\u001B[0m\u001B[0m\n\u001B[1;32m--> 858\u001B[1;33m             self._execute_child(args, executable, preexec_fn, close_fds,\n\u001B[0m\u001B[0;32m    859\u001B[0m                                 \u001B[0mpass_fds\u001B[0m\u001B[1;33m,\u001B[0m \u001B[0mcwd\u001B[0m\u001B[1;33m,\u001B[0m \u001B[0menv\u001B[0m\u001B[1;33m,\u001B[0m\u001B[1;33m\u001B[0m\u001B[1;33m\u001B[0m\u001B[0m\n",
      "\u001B[1;32m~\\AppData\\Local\\Programs\\Python\\Python38\\lib\\subprocess.py\u001B[0m in \u001B[0;36m_execute_child\u001B[1;34m(self, args, executable, preexec_fn, close_fds, pass_fds, cwd, env, startupinfo, creationflags, shell, p2cread, p2cwrite, c2pread, c2pwrite, errread, errwrite, unused_restore_signals, unused_start_new_session)\u001B[0m\n\u001B[0;32m   1310\u001B[0m             \u001B[1;32mtry\u001B[0m\u001B[1;33m:\u001B[0m\u001B[1;33m\u001B[0m\u001B[1;33m\u001B[0m\u001B[0m\n\u001B[1;32m-> 1311\u001B[1;33m                 hp, ht, pid, tid = _winapi.CreateProcess(executable, args,\n\u001B[0m\u001B[0;32m   1312\u001B[0m                                          \u001B[1;31m# no special security\u001B[0m\u001B[1;33m\u001B[0m\u001B[1;33m\u001B[0m\u001B[1;33m\u001B[0m\u001B[0m\n",
      "\u001B[1;31mFileNotFoundError\u001B[0m: [WinError 2] Impossibile trovare il file specificato",
      "\nDuring handling of the above exception, another exception occurred:\n",
      "\u001B[1;31mExecutableNotFound\u001B[0m                        Traceback (most recent call last)",
      "\u001B[1;32m<ipython-input-9-c0c630fd0cba>\u001B[0m in \u001B[0;36m<module>\u001B[1;34m\u001B[0m\n\u001B[1;32m----> 1\u001B[1;33m \u001B[0mrender_target\u001B[0m\u001B[1;33m(\u001B[0m\u001B[0mtarget\u001B[0m\u001B[1;33m)\u001B[0m\u001B[1;33m\u001B[0m\u001B[1;33m\u001B[0m\u001B[0m\n\u001B[0m\u001B[0;32m      2\u001B[0m \u001B[1;33m\u001B[0m\u001B[0m\n\u001B[0;32m      3\u001B[0m \u001B[1;33m\u001B[0m\u001B[0m\n\u001B[0;32m      4\u001B[0m \u001B[1;33m\u001B[0m\u001B[0m\n",
      "\u001B[1;32m~\\Downloads\\stochastic-service-composition-main\\stochastic-service-composition-main\\docs\\notebooks\\utils.py\u001B[0m in \u001B[0;36mrender_target\u001B[1;34m(target, format)\u001B[0m\n\u001B[0;32m     39\u001B[0m \u001B[1;32mdef\u001B[0m \u001B[0mrender_target\u001B[0m\u001B[1;33m(\u001B[0m\u001B[0mtarget\u001B[0m\u001B[1;33m:\u001B[0m \u001B[0mTarget\u001B[0m\u001B[1;33m,\u001B[0m \u001B[0mformat\u001B[0m\u001B[1;33m=\u001B[0m\u001B[0m_default_format\u001B[0m\u001B[1;33m)\u001B[0m\u001B[1;33m:\u001B[0m\u001B[1;33m\u001B[0m\u001B[1;33m\u001B[0m\u001B[0m\n\u001B[0;32m     40\u001B[0m     \u001B[0mdigraph\u001B[0m \u001B[1;33m=\u001B[0m \u001B[0mtarget_to_graphviz\u001B[0m\u001B[1;33m(\u001B[0m\u001B[0mtarget\u001B[0m\u001B[1;33m)\u001B[0m\u001B[1;33m\u001B[0m\u001B[1;33m\u001B[0m\u001B[0m\n\u001B[1;32m---> 41\u001B[1;33m     \u001B[0mrender_digraph\u001B[0m\u001B[1;33m(\u001B[0m\u001B[0mdigraph\u001B[0m\u001B[1;33m,\u001B[0m \u001B[0mformat\u001B[0m\u001B[1;33m)\u001B[0m\u001B[1;33m\u001B[0m\u001B[1;33m\u001B[0m\u001B[0m\n\u001B[0m\u001B[0;32m     42\u001B[0m \u001B[1;33m\u001B[0m\u001B[0m\n\u001B[0;32m     43\u001B[0m \u001B[1;33m\u001B[0m\u001B[0m\n",
      "\u001B[1;32m~\\Downloads\\stochastic-service-composition-main\\stochastic-service-composition-main\\docs\\notebooks\\utils.py\u001B[0m in \u001B[0;36mrender_digraph\u001B[1;34m(digraph, format)\u001B[0m\n\u001B[0;32m     50\u001B[0m     \u001B[0mtmp_dir\u001B[0m \u001B[1;33m=\u001B[0m \u001B[0mtempfile\u001B[0m\u001B[1;33m.\u001B[0m\u001B[0mmkdtemp\u001B[0m\u001B[1;33m(\u001B[0m\u001B[1;33m)\u001B[0m\u001B[1;33m\u001B[0m\u001B[1;33m\u001B[0m\u001B[0m\n\u001B[0;32m     51\u001B[0m     \u001B[0mtmp_filepath\u001B[0m \u001B[1;33m=\u001B[0m \u001B[0mstr\u001B[0m\u001B[1;33m(\u001B[0m\u001B[0mPath\u001B[0m\u001B[1;33m(\u001B[0m\u001B[0mtmp_dir\u001B[0m\u001B[1;33m,\u001B[0m \u001B[1;34m\"output\"\u001B[0m\u001B[1;33m)\u001B[0m\u001B[1;33m)\u001B[0m\u001B[1;33m\u001B[0m\u001B[1;33m\u001B[0m\u001B[0m\n\u001B[1;32m---> 52\u001B[1;33m     \u001B[0mdigraph\u001B[0m\u001B[1;33m.\u001B[0m\u001B[0mrender\u001B[0m\u001B[1;33m(\u001B[0m\u001B[0mtmp_filepath\u001B[0m\u001B[1;33m,\u001B[0m \u001B[0mformat\u001B[0m\u001B[1;33m=\u001B[0m\u001B[0mformat\u001B[0m\u001B[1;33m)\u001B[0m\u001B[1;33m\u001B[0m\u001B[1;33m\u001B[0m\u001B[0m\n\u001B[0m\u001B[0;32m     53\u001B[0m     \u001B[0mdisplay_svgs\u001B[0m\u001B[1;33m(\u001B[0m\u001B[0mtmp_filepath\u001B[0m \u001B[1;33m+\u001B[0m \u001B[1;34mf\".{format}\"\u001B[0m\u001B[1;33m,\u001B[0m \u001B[0mformat\u001B[0m\u001B[1;33m=\u001B[0m\u001B[0mformat\u001B[0m\u001B[1;33m)\u001B[0m\u001B[1;33m\u001B[0m\u001B[1;33m\u001B[0m\u001B[0m\n\u001B[0;32m     54\u001B[0m \u001B[1;33m\u001B[0m\u001B[0m\n",
      "\u001B[1;32mc:\\users\\emanuele\\.virtualenvs\\stochastic-service-composition-main-f5-jfgy1\\lib\\site-packages\\graphviz\\files.py\u001B[0m in \u001B[0;36mrender\u001B[1;34m(self, filename, directory, view, cleanup, format, renderer, formatter, quiet, quiet_view)\u001B[0m\n\u001B[0;32m    241\u001B[0m             \u001B[0mformat\u001B[0m \u001B[1;33m=\u001B[0m \u001B[0mself\u001B[0m\u001B[1;33m.\u001B[0m\u001B[0m_format\u001B[0m\u001B[1;33m\u001B[0m\u001B[1;33m\u001B[0m\u001B[0m\n\u001B[0;32m    242\u001B[0m \u001B[1;33m\u001B[0m\u001B[0m\n\u001B[1;32m--> 243\u001B[1;33m         rendered = backend.render(self._engine, format, filepath,\n\u001B[0m\u001B[0;32m    244\u001B[0m                                   \u001B[0mrenderer\u001B[0m\u001B[1;33m=\u001B[0m\u001B[0mrenderer\u001B[0m\u001B[1;33m,\u001B[0m \u001B[0mformatter\u001B[0m\u001B[1;33m=\u001B[0m\u001B[0mformatter\u001B[0m\u001B[1;33m,\u001B[0m\u001B[1;33m\u001B[0m\u001B[1;33m\u001B[0m\u001B[0m\n\u001B[0;32m    245\u001B[0m                                   quiet=quiet)\n",
      "\u001B[1;32mc:\\users\\emanuele\\.virtualenvs\\stochastic-service-composition-main-f5-jfgy1\\lib\\site-packages\\graphviz\\backend.py\u001B[0m in \u001B[0;36mrender\u001B[1;34m(***failed resolving arguments***)\u001B[0m\n\u001B[0;32m    221\u001B[0m         \u001B[0mcwd\u001B[0m \u001B[1;33m=\u001B[0m \u001B[1;32mNone\u001B[0m\u001B[1;33m\u001B[0m\u001B[1;33m\u001B[0m\u001B[0m\n\u001B[0;32m    222\u001B[0m \u001B[1;33m\u001B[0m\u001B[0m\n\u001B[1;32m--> 223\u001B[1;33m     \u001B[0mrun\u001B[0m\u001B[1;33m(\u001B[0m\u001B[0mcmd\u001B[0m\u001B[1;33m,\u001B[0m \u001B[0mcapture_output\u001B[0m\u001B[1;33m=\u001B[0m\u001B[1;32mTrue\u001B[0m\u001B[1;33m,\u001B[0m \u001B[0mcwd\u001B[0m\u001B[1;33m=\u001B[0m\u001B[0mcwd\u001B[0m\u001B[1;33m,\u001B[0m \u001B[0mcheck\u001B[0m\u001B[1;33m=\u001B[0m\u001B[1;32mTrue\u001B[0m\u001B[1;33m,\u001B[0m \u001B[0mquiet\u001B[0m\u001B[1;33m=\u001B[0m\u001B[0mquiet\u001B[0m\u001B[1;33m)\u001B[0m\u001B[1;33m\u001B[0m\u001B[1;33m\u001B[0m\u001B[0m\n\u001B[0m\u001B[0;32m    224\u001B[0m     \u001B[1;32mreturn\u001B[0m \u001B[0mrendered\u001B[0m\u001B[1;33m\u001B[0m\u001B[1;33m\u001B[0m\u001B[0m\n\u001B[0;32m    225\u001B[0m \u001B[1;33m\u001B[0m\u001B[0m\n",
      "\u001B[1;32mc:\\users\\emanuele\\.virtualenvs\\stochastic-service-composition-main-f5-jfgy1\\lib\\site-packages\\graphviz\\backend.py\u001B[0m in \u001B[0;36mrun\u001B[1;34m(cmd, input, capture_output, check, encoding, quiet, **kwargs)\u001B[0m\n\u001B[0;32m    165\u001B[0m     \u001B[1;32mexcept\u001B[0m \u001B[0mOSError\u001B[0m \u001B[1;32mas\u001B[0m \u001B[0me\u001B[0m\u001B[1;33m:\u001B[0m\u001B[1;33m\u001B[0m\u001B[1;33m\u001B[0m\u001B[0m\n\u001B[0;32m    166\u001B[0m         \u001B[1;32mif\u001B[0m \u001B[0me\u001B[0m\u001B[1;33m.\u001B[0m\u001B[0merrno\u001B[0m \u001B[1;33m==\u001B[0m \u001B[0merrno\u001B[0m\u001B[1;33m.\u001B[0m\u001B[0mENOENT\u001B[0m\u001B[1;33m:\u001B[0m\u001B[1;33m\u001B[0m\u001B[1;33m\u001B[0m\u001B[0m\n\u001B[1;32m--> 167\u001B[1;33m             \u001B[1;32mraise\u001B[0m \u001B[0mExecutableNotFound\u001B[0m\u001B[1;33m(\u001B[0m\u001B[0mcmd\u001B[0m\u001B[1;33m)\u001B[0m\u001B[1;33m\u001B[0m\u001B[1;33m\u001B[0m\u001B[0m\n\u001B[0m\u001B[0;32m    168\u001B[0m         \u001B[1;32melse\u001B[0m\u001B[1;33m:\u001B[0m\u001B[1;33m\u001B[0m\u001B[1;33m\u001B[0m\u001B[0m\n\u001B[0;32m    169\u001B[0m             \u001B[1;32mraise\u001B[0m\u001B[1;33m\u001B[0m\u001B[1;33m\u001B[0m\u001B[0m\n",
      "\u001B[1;31mExecutableNotFound\u001B[0m: failed to execute ['dot', '-Kdot', '-Tpng', '-O', 'output'], make sure the Graphviz executables are on your systems' PATH"
     ]
    }
   ],
   "source": [
    "render_target(target)\n",
    "\n"
   ]
  },
  {
   "cell_type": "code",
   "execution_count": null,
   "outputs": [],
   "source": [],
   "metadata": {
    "collapsed": false,
    "pycharm": {
     "name": "#%%\n"
    }
   }
  }
 ],
 "metadata": {
  "kernelspec": {
   "display_name": "Python 3",
   "language": "python",
   "name": "python3"
  },
  "language_info": {
   "codemirror_mode": {
    "name": "ipython",
    "version": 3
   },
   "file_extension": ".py",
   "mimetype": "text/x-python",
   "name": "python",
   "nbconvert_exporter": "python",
   "pygments_lexer": "ipython3",
   "version": "3.8.8"
  }
 },
 "nbformat": 4,
 "nbformat_minor": 1
}